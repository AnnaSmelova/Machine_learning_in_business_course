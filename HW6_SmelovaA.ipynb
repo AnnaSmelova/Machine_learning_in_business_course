{
 "cells": [
  {
   "cell_type": "markdown",
   "id": "environmental-indication",
   "metadata": {},
   "source": [
    "## Домашнее задание\n",
    "1. взять любой набор данных для бинарной классификации (можно скачать один из модельных с https://archive.ics.uci.edu/ml/datasets.php)\n",
    "2. сделать feature engineering\n",
    "3. обучить любой классификатор (какой вам нравится) и посчитать метрики качества (roc auc, pr/rec/f1, logloss)\n",
    "4. далее разделить ваш набор данных на два множества: P (positives) и U (unlabeled). Причем брать нужно не все положительные (класс 1) примеры, а только лишь часть\n",
    "5. применить random negative sampling для построения классификатора в новых условиях\n",
    "6. сравнить качество с решением из пункта 4 (построить отчет - таблицу метрик)\n",
    "7. поэкспериментировать с долей P на шаге 5 (как будет меняться качество модели при уменьшении/увеличении размера P)\n",
    "### Ссылки:\n",
    "https://arxiv.org/pdf/1811.04820.pdf<br>\n",
    "https://habr.com/ru/company/JetBrains-education/blog/512032/<br>\n",
    "https://en.wikipedia.org/wiki/Bootstrap_aggregating<br>\n",
    "https://www.cs.uic.edu/~liub/publications/EMNLP-2010-no-negative.pdf<br>\n",
    "https://towardsdatascience.com/lookalikes-finding-needles-in-a-haystack-683bae8fdfff"
   ]
  },
  {
   "cell_type": "markdown",
   "id": "complete-average",
   "metadata": {},
   "source": [
    "1. взять любой набор данных для бинарной классификации (можно скачать один из модельных с https://archive.ics.uci.edu/ml/datasets.php)"
   ]
  },
  {
   "cell_type": "markdown",
   "id": "removable-water",
   "metadata": {},
   "source": [
    "Данные: https://archive.ics.uci.edu/ml/datasets/Bank+Marketing<br>\n",
    "Attribute Information:\n",
    "\n",
    "Input variables:\n",
    "#### bank client data:\n",
    "1. age (numeric)\n",
    "2. job : type of job (categorical: 'admin.','blue-collar','entrepreneur','housemaid','management','retired','self-employed','services','student','technician','unemployed','unknown')\n",
    "3. marital : marital status (categorical: 'divorced','married','single','unknown'; note: 'divorced' means divorced or widowed)\n",
    "4. education (categorical: 'basic.4y','basic.6y','basic.9y','high.school','illiterate','professional.course','university.degree','unknown')\n",
    "5. default: has credit in default? (categorical: 'no','yes','unknown')\n",
    "6. housing: has housing loan? (categorical: 'no','yes','unknown')\n",
    "7. loan: has personal loan? (categorical: 'no','yes','unknown')\n",
    "#### related with the last contact of the current campaign:\n",
    "8. contact: contact communication type (categorical: 'cellular','telephone')\n",
    "9. month: last contact month of year (categorical: 'jan', 'feb', 'mar', ..., 'nov', 'dec')\n",
    "10. day_of_week: last contact day of the week (categorical: 'mon','tue','wed','thu','fri')\n",
    "11. duration: last contact duration, in seconds (numeric). Important note: this attribute highly affects the output target (e.g., if duration=0 then y='no'). Yet, the duration is not known before a call is performed. Also, after the end of the call y is obviously known. Thus, this input should only be included for benchmark purposes and should be discarded if the intention is to have a realistic predictive model.\n",
    "#### other attributes:\n",
    "12. campaign: number of contacts performed during this campaign and for this client (numeric, includes last contact)\n",
    "13. pdays: number of days that passed by after the client was last contacted from a previous campaign (numeric; 999 means client was not previously contacted)\n",
    "14. previous: number of contacts performed before this campaign and for this client (numeric)\n",
    "15. poutcome: outcome of the previous marketing campaign (categorical: 'failure','nonexistent','success')\n",
    "#### social and economic context attributes\n",
    "16. emp.var.rate: employment variation rate - quarterly indicator (numeric)\n",
    "17. cons.price.idx: consumer price index - monthly indicator (numeric)\n",
    "18. cons.conf.idx: consumer confidence index - monthly indicator (numeric)\n",
    "19. euribor3m: euribor 3 month rate - daily indicator (numeric)\n",
    "20. nr.employed: number of employees - quarterly indicator (numeric)\n",
    "\n",
    "Output variable (desired target):\n",
    "21. y - has the client subscribed a term deposit? (binary: 'yes','no')"
   ]
  },
  {
   "cell_type": "code",
   "execution_count": 1,
   "id": "chicken-firewall",
   "metadata": {},
   "outputs": [],
   "source": [
    "import pandas as pd\n",
    "import numpy as np\n",
    "import matplotlib.pyplot as plt\n",
    "import seaborn as sns\n",
    "import catboost as catb\n",
    "import warnings\n",
    "warnings.filterwarnings('ignore')"
   ]
  },
  {
   "cell_type": "code",
   "execution_count": 2,
   "id": "smoking-depression",
   "metadata": {},
   "outputs": [],
   "source": [
    "np.random.seed(31415)"
   ]
  },
  {
   "cell_type": "code",
   "execution_count": 3,
   "id": "hybrid-render",
   "metadata": {},
   "outputs": [
    {
     "name": "stdout",
     "output_type": "stream",
     "text": [
      "(4521, 17)\n"
     ]
    },
    {
     "data": {
      "text/html": [
       "<div>\n",
       "<style scoped>\n",
       "    .dataframe tbody tr th:only-of-type {\n",
       "        vertical-align: middle;\n",
       "    }\n",
       "\n",
       "    .dataframe tbody tr th {\n",
       "        vertical-align: top;\n",
       "    }\n",
       "\n",
       "    .dataframe thead th {\n",
       "        text-align: right;\n",
       "    }\n",
       "</style>\n",
       "<table border=\"1\" class=\"dataframe\">\n",
       "  <thead>\n",
       "    <tr style=\"text-align: right;\">\n",
       "      <th></th>\n",
       "      <th>age</th>\n",
       "      <th>job</th>\n",
       "      <th>marital</th>\n",
       "      <th>education</th>\n",
       "      <th>default</th>\n",
       "      <th>balance</th>\n",
       "      <th>housing</th>\n",
       "      <th>loan</th>\n",
       "      <th>contact</th>\n",
       "      <th>day</th>\n",
       "      <th>month</th>\n",
       "      <th>duration</th>\n",
       "      <th>campaign</th>\n",
       "      <th>pdays</th>\n",
       "      <th>previous</th>\n",
       "      <th>poutcome</th>\n",
       "      <th>y</th>\n",
       "    </tr>\n",
       "  </thead>\n",
       "  <tbody>\n",
       "    <tr>\n",
       "      <th>0</th>\n",
       "      <td>30</td>\n",
       "      <td>unemployed</td>\n",
       "      <td>married</td>\n",
       "      <td>primary</td>\n",
       "      <td>no</td>\n",
       "      <td>1787</td>\n",
       "      <td>no</td>\n",
       "      <td>no</td>\n",
       "      <td>cellular</td>\n",
       "      <td>19</td>\n",
       "      <td>oct</td>\n",
       "      <td>79</td>\n",
       "      <td>1</td>\n",
       "      <td>-1</td>\n",
       "      <td>0</td>\n",
       "      <td>unknown</td>\n",
       "      <td>no</td>\n",
       "    </tr>\n",
       "    <tr>\n",
       "      <th>1</th>\n",
       "      <td>33</td>\n",
       "      <td>services</td>\n",
       "      <td>married</td>\n",
       "      <td>secondary</td>\n",
       "      <td>no</td>\n",
       "      <td>4789</td>\n",
       "      <td>yes</td>\n",
       "      <td>yes</td>\n",
       "      <td>cellular</td>\n",
       "      <td>11</td>\n",
       "      <td>may</td>\n",
       "      <td>220</td>\n",
       "      <td>1</td>\n",
       "      <td>339</td>\n",
       "      <td>4</td>\n",
       "      <td>failure</td>\n",
       "      <td>no</td>\n",
       "    </tr>\n",
       "    <tr>\n",
       "      <th>2</th>\n",
       "      <td>35</td>\n",
       "      <td>management</td>\n",
       "      <td>single</td>\n",
       "      <td>tertiary</td>\n",
       "      <td>no</td>\n",
       "      <td>1350</td>\n",
       "      <td>yes</td>\n",
       "      <td>no</td>\n",
       "      <td>cellular</td>\n",
       "      <td>16</td>\n",
       "      <td>apr</td>\n",
       "      <td>185</td>\n",
       "      <td>1</td>\n",
       "      <td>330</td>\n",
       "      <td>1</td>\n",
       "      <td>failure</td>\n",
       "      <td>no</td>\n",
       "    </tr>\n",
       "  </tbody>\n",
       "</table>\n",
       "</div>"
      ],
      "text/plain": [
       "   age         job  marital  education default  balance housing loan  \\\n",
       "0   30  unemployed  married    primary      no     1787      no   no   \n",
       "1   33    services  married  secondary      no     4789     yes  yes   \n",
       "2   35  management   single   tertiary      no     1350     yes   no   \n",
       "\n",
       "    contact  day month  duration  campaign  pdays  previous poutcome   y  \n",
       "0  cellular   19   oct        79         1     -1         0  unknown  no  \n",
       "1  cellular   11   may       220         1    339         4  failure  no  \n",
       "2  cellular   16   apr       185         1    330         1  failure  no  "
      ]
     },
     "execution_count": 3,
     "metadata": {},
     "output_type": "execute_result"
    }
   ],
   "source": [
    "data = pd.read_csv('bank/bank.csv', ';')\n",
    "print(data.shape)\n",
    "data.head(3)"
   ]
  },
  {
   "cell_type": "code",
   "execution_count": 4,
   "id": "welcome-punch",
   "metadata": {},
   "outputs": [],
   "source": [
    "data = data.rename(columns={'y': 'target'})"
   ]
  },
  {
   "cell_type": "code",
   "execution_count": 5,
   "id": "amateur-constant",
   "metadata": {},
   "outputs": [
    {
     "data": {
      "text/plain": [
       "no     4000\n",
       "yes     521\n",
       "Name: target, dtype: int64"
      ]
     },
     "execution_count": 5,
     "metadata": {},
     "output_type": "execute_result"
    }
   ],
   "source": [
    "data['target'].value_counts()"
   ]
  },
  {
   "cell_type": "code",
   "execution_count": 6,
   "id": "prime-minimum",
   "metadata": {},
   "outputs": [
    {
     "data": {
      "text/html": [
       "<div>\n",
       "<style scoped>\n",
       "    .dataframe tbody tr th:only-of-type {\n",
       "        vertical-align: middle;\n",
       "    }\n",
       "\n",
       "    .dataframe tbody tr th {\n",
       "        vertical-align: top;\n",
       "    }\n",
       "\n",
       "    .dataframe thead th {\n",
       "        text-align: right;\n",
       "    }\n",
       "</style>\n",
       "<table border=\"1\" class=\"dataframe\">\n",
       "  <thead>\n",
       "    <tr style=\"text-align: right;\">\n",
       "      <th></th>\n",
       "      <th>age</th>\n",
       "      <th>job</th>\n",
       "      <th>marital</th>\n",
       "      <th>education</th>\n",
       "      <th>default</th>\n",
       "      <th>balance</th>\n",
       "      <th>housing</th>\n",
       "      <th>loan</th>\n",
       "      <th>contact</th>\n",
       "      <th>day</th>\n",
       "      <th>month</th>\n",
       "      <th>duration</th>\n",
       "      <th>campaign</th>\n",
       "      <th>pdays</th>\n",
       "      <th>previous</th>\n",
       "      <th>poutcome</th>\n",
       "      <th>target</th>\n",
       "    </tr>\n",
       "  </thead>\n",
       "  <tbody>\n",
       "    <tr>\n",
       "      <th>0</th>\n",
       "      <td>30</td>\n",
       "      <td>unemployed</td>\n",
       "      <td>married</td>\n",
       "      <td>primary</td>\n",
       "      <td>no</td>\n",
       "      <td>1787</td>\n",
       "      <td>no</td>\n",
       "      <td>no</td>\n",
       "      <td>cellular</td>\n",
       "      <td>19</td>\n",
       "      <td>oct</td>\n",
       "      <td>79</td>\n",
       "      <td>1</td>\n",
       "      <td>-1</td>\n",
       "      <td>0</td>\n",
       "      <td>unknown</td>\n",
       "      <td>0</td>\n",
       "    </tr>\n",
       "    <tr>\n",
       "      <th>1</th>\n",
       "      <td>33</td>\n",
       "      <td>services</td>\n",
       "      <td>married</td>\n",
       "      <td>secondary</td>\n",
       "      <td>no</td>\n",
       "      <td>4789</td>\n",
       "      <td>yes</td>\n",
       "      <td>yes</td>\n",
       "      <td>cellular</td>\n",
       "      <td>11</td>\n",
       "      <td>may</td>\n",
       "      <td>220</td>\n",
       "      <td>1</td>\n",
       "      <td>339</td>\n",
       "      <td>4</td>\n",
       "      <td>failure</td>\n",
       "      <td>0</td>\n",
       "    </tr>\n",
       "    <tr>\n",
       "      <th>2</th>\n",
       "      <td>35</td>\n",
       "      <td>management</td>\n",
       "      <td>single</td>\n",
       "      <td>tertiary</td>\n",
       "      <td>no</td>\n",
       "      <td>1350</td>\n",
       "      <td>yes</td>\n",
       "      <td>no</td>\n",
       "      <td>cellular</td>\n",
       "      <td>16</td>\n",
       "      <td>apr</td>\n",
       "      <td>185</td>\n",
       "      <td>1</td>\n",
       "      <td>330</td>\n",
       "      <td>1</td>\n",
       "      <td>failure</td>\n",
       "      <td>0</td>\n",
       "    </tr>\n",
       "  </tbody>\n",
       "</table>\n",
       "</div>"
      ],
      "text/plain": [
       "   age         job  marital  education default  balance housing loan  \\\n",
       "0   30  unemployed  married    primary      no     1787      no   no   \n",
       "1   33    services  married  secondary      no     4789     yes  yes   \n",
       "2   35  management   single   tertiary      no     1350     yes   no   \n",
       "\n",
       "    contact  day month  duration  campaign  pdays  previous poutcome  target  \n",
       "0  cellular   19   oct        79         1     -1         0  unknown       0  \n",
       "1  cellular   11   may       220         1    339         4  failure       0  \n",
       "2  cellular   16   apr       185         1    330         1  failure       0  "
      ]
     },
     "execution_count": 6,
     "metadata": {},
     "output_type": "execute_result"
    }
   ],
   "source": [
    "data['target'] = list(map(lambda x: 0 if x=='no' else 1, data['target']))\n",
    "data.head(3)"
   ]
  },
  {
   "cell_type": "markdown",
   "id": "future-privacy",
   "metadata": {},
   "source": [
    "У нас есть 16 признаков и 1 целевая переменная (бинарная) - нужно определить сделает ли клиент срочный вклад"
   ]
  },
  {
   "cell_type": "code",
   "execution_count": 7,
   "id": "superb-relevance",
   "metadata": {},
   "outputs": [
    {
     "name": "stdout",
     "output_type": "stream",
     "text": [
      "(4521, 17)\n"
     ]
    }
   ],
   "source": [
    "print(data.shape)"
   ]
  },
  {
   "cell_type": "markdown",
   "id": "another-favor",
   "metadata": {},
   "source": [
    "2. сделать feature engineering"
   ]
  },
  {
   "cell_type": "markdown",
   "id": "nervous-oregon",
   "metadata": {},
   "source": [
    "Признаки 'day' и 'month' удалим, так как они не несут особой смысловой нагрузки. Признак 'duration' покрывает данные признаки."
   ]
  },
  {
   "cell_type": "code",
   "execution_count": 8,
   "id": "thousand-lender",
   "metadata": {},
   "outputs": [],
   "source": [
    "data = data.drop(['day','month'], axis=1)"
   ]
  },
  {
   "cell_type": "code",
   "execution_count": 9,
   "id": "animated-austria",
   "metadata": {},
   "outputs": [
    {
     "name": "stdout",
     "output_type": "stream",
     "text": [
      "<class 'pandas.core.frame.DataFrame'>\n",
      "RangeIndex: 4521 entries, 0 to 4520\n",
      "Data columns (total 15 columns):\n",
      "age          4521 non-null int64\n",
      "job          4521 non-null object\n",
      "marital      4521 non-null object\n",
      "education    4521 non-null object\n",
      "default      4521 non-null object\n",
      "balance      4521 non-null int64\n",
      "housing      4521 non-null object\n",
      "loan         4521 non-null object\n",
      "contact      4521 non-null object\n",
      "duration     4521 non-null int64\n",
      "campaign     4521 non-null int64\n",
      "pdays        4521 non-null int64\n",
      "previous     4521 non-null int64\n",
      "poutcome     4521 non-null object\n",
      "target       4521 non-null int64\n",
      "dtypes: int64(7), object(8)\n",
      "memory usage: 529.9+ KB\n"
     ]
    }
   ],
   "source": [
    "data.info()"
   ]
  },
  {
   "cell_type": "code",
   "execution_count": 10,
   "id": "blocked-inventory",
   "metadata": {},
   "outputs": [
    {
     "name": "stdout",
     "output_type": "stream",
     "text": [
      "cat_features: Index(['job', 'marital', 'education', 'default', 'housing', 'loan', 'contact',\n",
      "       'poutcome'],\n",
      "      dtype='object')\n",
      "num_features: Index(['age', 'balance', 'duration', 'campaign', 'pdays', 'previous'], dtype='object')\n"
     ]
    }
   ],
   "source": [
    "target_feature = 'target'\n",
    "cat_features = data.copy().select_dtypes(include=['object']).columns\n",
    "print(f'cat_features: {cat_features}')\n",
    "num_features = data.copy().select_dtypes(exclude=['object']).drop([target_feature], axis=1).columns\n",
    "print(f'num_features: {num_features}')"
   ]
  },
  {
   "cell_type": "code",
   "execution_count": 11,
   "id": "stable-powell",
   "metadata": {},
   "outputs": [
    {
     "data": {
      "text/html": [
       "<div>\n",
       "<style scoped>\n",
       "    .dataframe tbody tr th:only-of-type {\n",
       "        vertical-align: middle;\n",
       "    }\n",
       "\n",
       "    .dataframe tbody tr th {\n",
       "        vertical-align: top;\n",
       "    }\n",
       "\n",
       "    .dataframe thead th {\n",
       "        text-align: right;\n",
       "    }\n",
       "</style>\n",
       "<table border=\"1\" class=\"dataframe\">\n",
       "  <thead>\n",
       "    <tr style=\"text-align: right;\">\n",
       "      <th></th>\n",
       "      <th>age</th>\n",
       "      <th>balance</th>\n",
       "      <th>duration</th>\n",
       "      <th>campaign</th>\n",
       "      <th>pdays</th>\n",
       "      <th>previous</th>\n",
       "      <th>target</th>\n",
       "    </tr>\n",
       "  </thead>\n",
       "  <tbody>\n",
       "    <tr>\n",
       "      <th>count</th>\n",
       "      <td>4521.000000</td>\n",
       "      <td>4521.000000</td>\n",
       "      <td>4521.000000</td>\n",
       "      <td>4521.000000</td>\n",
       "      <td>4521.000000</td>\n",
       "      <td>4521.000000</td>\n",
       "      <td>4521.000000</td>\n",
       "    </tr>\n",
       "    <tr>\n",
       "      <th>mean</th>\n",
       "      <td>41.170095</td>\n",
       "      <td>1422.657819</td>\n",
       "      <td>263.961292</td>\n",
       "      <td>2.793630</td>\n",
       "      <td>39.766645</td>\n",
       "      <td>0.542579</td>\n",
       "      <td>0.115240</td>\n",
       "    </tr>\n",
       "    <tr>\n",
       "      <th>std</th>\n",
       "      <td>10.576211</td>\n",
       "      <td>3009.638142</td>\n",
       "      <td>259.856633</td>\n",
       "      <td>3.109807</td>\n",
       "      <td>100.121124</td>\n",
       "      <td>1.693562</td>\n",
       "      <td>0.319347</td>\n",
       "    </tr>\n",
       "    <tr>\n",
       "      <th>min</th>\n",
       "      <td>19.000000</td>\n",
       "      <td>-3313.000000</td>\n",
       "      <td>4.000000</td>\n",
       "      <td>1.000000</td>\n",
       "      <td>-1.000000</td>\n",
       "      <td>0.000000</td>\n",
       "      <td>0.000000</td>\n",
       "    </tr>\n",
       "    <tr>\n",
       "      <th>25%</th>\n",
       "      <td>33.000000</td>\n",
       "      <td>69.000000</td>\n",
       "      <td>104.000000</td>\n",
       "      <td>1.000000</td>\n",
       "      <td>-1.000000</td>\n",
       "      <td>0.000000</td>\n",
       "      <td>0.000000</td>\n",
       "    </tr>\n",
       "    <tr>\n",
       "      <th>50%</th>\n",
       "      <td>39.000000</td>\n",
       "      <td>444.000000</td>\n",
       "      <td>185.000000</td>\n",
       "      <td>2.000000</td>\n",
       "      <td>-1.000000</td>\n",
       "      <td>0.000000</td>\n",
       "      <td>0.000000</td>\n",
       "    </tr>\n",
       "    <tr>\n",
       "      <th>75%</th>\n",
       "      <td>49.000000</td>\n",
       "      <td>1480.000000</td>\n",
       "      <td>329.000000</td>\n",
       "      <td>3.000000</td>\n",
       "      <td>-1.000000</td>\n",
       "      <td>0.000000</td>\n",
       "      <td>0.000000</td>\n",
       "    </tr>\n",
       "    <tr>\n",
       "      <th>max</th>\n",
       "      <td>87.000000</td>\n",
       "      <td>71188.000000</td>\n",
       "      <td>3025.000000</td>\n",
       "      <td>50.000000</td>\n",
       "      <td>871.000000</td>\n",
       "      <td>25.000000</td>\n",
       "      <td>1.000000</td>\n",
       "    </tr>\n",
       "  </tbody>\n",
       "</table>\n",
       "</div>"
      ],
      "text/plain": [
       "               age       balance     duration     campaign        pdays  \\\n",
       "count  4521.000000   4521.000000  4521.000000  4521.000000  4521.000000   \n",
       "mean     41.170095   1422.657819   263.961292     2.793630    39.766645   \n",
       "std      10.576211   3009.638142   259.856633     3.109807   100.121124   \n",
       "min      19.000000  -3313.000000     4.000000     1.000000    -1.000000   \n",
       "25%      33.000000     69.000000   104.000000     1.000000    -1.000000   \n",
       "50%      39.000000    444.000000   185.000000     2.000000    -1.000000   \n",
       "75%      49.000000   1480.000000   329.000000     3.000000    -1.000000   \n",
       "max      87.000000  71188.000000  3025.000000    50.000000   871.000000   \n",
       "\n",
       "          previous       target  \n",
       "count  4521.000000  4521.000000  \n",
       "mean      0.542579     0.115240  \n",
       "std       1.693562     0.319347  \n",
       "min       0.000000     0.000000  \n",
       "25%       0.000000     0.000000  \n",
       "50%       0.000000     0.000000  \n",
       "75%       0.000000     0.000000  \n",
       "max      25.000000     1.000000  "
      ]
     },
     "execution_count": 11,
     "metadata": {},
     "output_type": "execute_result"
    }
   ],
   "source": [
    "data.describe()"
   ]
  },
  {
   "cell_type": "code",
   "execution_count": 12,
   "id": "individual-comparison",
   "metadata": {},
   "outputs": [],
   "source": [
    "target = data[target_feature]\n",
    "train_data = pd.concat([data.drop(['job', 'marital', 'education', \n",
    "                                  'default', 'housing', 'loan', \n",
    "                                  'contact', 'poutcome','target'], axis=1), \n",
    "                          pd.get_dummies(data['job'], prefix='job'),\n",
    "                          pd.get_dummies(data['marital'], prefix='marital'),\n",
    "                          pd.get_dummies(data['education'], prefix='education'),\n",
    "                          pd.get_dummies(data['default'], prefix='default'),\n",
    "                          pd.get_dummies(data['housing'], prefix='housing'),\n",
    "                          pd.get_dummies(data['loan'], prefix='loan'),\n",
    "                          pd.get_dummies(data['contact'], prefix='contact'),\n",
    "                          pd.get_dummies(data['poutcome'], prefix='poutcome'),\n",
    "                          target\n",
    "                         ], 1)"
   ]
  },
  {
   "cell_type": "code",
   "execution_count": 13,
   "id": "extraordinary-landing",
   "metadata": {},
   "outputs": [
    {
     "data": {
      "text/html": [
       "<div>\n",
       "<style scoped>\n",
       "    .dataframe tbody tr th:only-of-type {\n",
       "        vertical-align: middle;\n",
       "    }\n",
       "\n",
       "    .dataframe tbody tr th {\n",
       "        vertical-align: top;\n",
       "    }\n",
       "\n",
       "    .dataframe thead th {\n",
       "        text-align: right;\n",
       "    }\n",
       "</style>\n",
       "<table border=\"1\" class=\"dataframe\">\n",
       "  <thead>\n",
       "    <tr style=\"text-align: right;\">\n",
       "      <th></th>\n",
       "      <th>age</th>\n",
       "      <th>balance</th>\n",
       "      <th>duration</th>\n",
       "      <th>campaign</th>\n",
       "      <th>pdays</th>\n",
       "      <th>previous</th>\n",
       "      <th>job_admin.</th>\n",
       "      <th>job_blue-collar</th>\n",
       "      <th>job_entrepreneur</th>\n",
       "      <th>job_housemaid</th>\n",
       "      <th>...</th>\n",
       "      <th>loan_no</th>\n",
       "      <th>loan_yes</th>\n",
       "      <th>contact_cellular</th>\n",
       "      <th>contact_telephone</th>\n",
       "      <th>contact_unknown</th>\n",
       "      <th>poutcome_failure</th>\n",
       "      <th>poutcome_other</th>\n",
       "      <th>poutcome_success</th>\n",
       "      <th>poutcome_unknown</th>\n",
       "      <th>target</th>\n",
       "    </tr>\n",
       "  </thead>\n",
       "  <tbody>\n",
       "    <tr>\n",
       "      <th>0</th>\n",
       "      <td>30</td>\n",
       "      <td>1787</td>\n",
       "      <td>79</td>\n",
       "      <td>1</td>\n",
       "      <td>-1</td>\n",
       "      <td>0</td>\n",
       "      <td>0</td>\n",
       "      <td>0</td>\n",
       "      <td>0</td>\n",
       "      <td>0</td>\n",
       "      <td>...</td>\n",
       "      <td>1</td>\n",
       "      <td>0</td>\n",
       "      <td>1</td>\n",
       "      <td>0</td>\n",
       "      <td>0</td>\n",
       "      <td>0</td>\n",
       "      <td>0</td>\n",
       "      <td>0</td>\n",
       "      <td>1</td>\n",
       "      <td>0</td>\n",
       "    </tr>\n",
       "    <tr>\n",
       "      <th>1</th>\n",
       "      <td>33</td>\n",
       "      <td>4789</td>\n",
       "      <td>220</td>\n",
       "      <td>1</td>\n",
       "      <td>339</td>\n",
       "      <td>4</td>\n",
       "      <td>0</td>\n",
       "      <td>0</td>\n",
       "      <td>0</td>\n",
       "      <td>0</td>\n",
       "      <td>...</td>\n",
       "      <td>0</td>\n",
       "      <td>1</td>\n",
       "      <td>1</td>\n",
       "      <td>0</td>\n",
       "      <td>0</td>\n",
       "      <td>1</td>\n",
       "      <td>0</td>\n",
       "      <td>0</td>\n",
       "      <td>0</td>\n",
       "      <td>0</td>\n",
       "    </tr>\n",
       "    <tr>\n",
       "      <th>2</th>\n",
       "      <td>35</td>\n",
       "      <td>1350</td>\n",
       "      <td>185</td>\n",
       "      <td>1</td>\n",
       "      <td>330</td>\n",
       "      <td>1</td>\n",
       "      <td>0</td>\n",
       "      <td>0</td>\n",
       "      <td>0</td>\n",
       "      <td>0</td>\n",
       "      <td>...</td>\n",
       "      <td>1</td>\n",
       "      <td>0</td>\n",
       "      <td>1</td>\n",
       "      <td>0</td>\n",
       "      <td>0</td>\n",
       "      <td>1</td>\n",
       "      <td>0</td>\n",
       "      <td>0</td>\n",
       "      <td>0</td>\n",
       "      <td>0</td>\n",
       "    </tr>\n",
       "    <tr>\n",
       "      <th>3</th>\n",
       "      <td>30</td>\n",
       "      <td>1476</td>\n",
       "      <td>199</td>\n",
       "      <td>4</td>\n",
       "      <td>-1</td>\n",
       "      <td>0</td>\n",
       "      <td>0</td>\n",
       "      <td>0</td>\n",
       "      <td>0</td>\n",
       "      <td>0</td>\n",
       "      <td>...</td>\n",
       "      <td>0</td>\n",
       "      <td>1</td>\n",
       "      <td>0</td>\n",
       "      <td>0</td>\n",
       "      <td>1</td>\n",
       "      <td>0</td>\n",
       "      <td>0</td>\n",
       "      <td>0</td>\n",
       "      <td>1</td>\n",
       "      <td>0</td>\n",
       "    </tr>\n",
       "    <tr>\n",
       "      <th>4</th>\n",
       "      <td>59</td>\n",
       "      <td>0</td>\n",
       "      <td>226</td>\n",
       "      <td>1</td>\n",
       "      <td>-1</td>\n",
       "      <td>0</td>\n",
       "      <td>0</td>\n",
       "      <td>1</td>\n",
       "      <td>0</td>\n",
       "      <td>0</td>\n",
       "      <td>...</td>\n",
       "      <td>1</td>\n",
       "      <td>0</td>\n",
       "      <td>0</td>\n",
       "      <td>0</td>\n",
       "      <td>1</td>\n",
       "      <td>0</td>\n",
       "      <td>0</td>\n",
       "      <td>0</td>\n",
       "      <td>1</td>\n",
       "      <td>0</td>\n",
       "    </tr>\n",
       "  </tbody>\n",
       "</table>\n",
       "<p>5 rows × 39 columns</p>\n",
       "</div>"
      ],
      "text/plain": [
       "   age  balance  duration  campaign  pdays  previous  job_admin.  \\\n",
       "0   30     1787        79         1     -1         0           0   \n",
       "1   33     4789       220         1    339         4           0   \n",
       "2   35     1350       185         1    330         1           0   \n",
       "3   30     1476       199         4     -1         0           0   \n",
       "4   59        0       226         1     -1         0           0   \n",
       "\n",
       "   job_blue-collar  job_entrepreneur  job_housemaid  ...  loan_no  loan_yes  \\\n",
       "0                0                 0              0  ...        1         0   \n",
       "1                0                 0              0  ...        0         1   \n",
       "2                0                 0              0  ...        1         0   \n",
       "3                0                 0              0  ...        0         1   \n",
       "4                1                 0              0  ...        1         0   \n",
       "\n",
       "   contact_cellular  contact_telephone  contact_unknown  poutcome_failure  \\\n",
       "0                 1                  0                0                 0   \n",
       "1                 1                  0                0                 1   \n",
       "2                 1                  0                0                 1   \n",
       "3                 0                  0                1                 0   \n",
       "4                 0                  0                1                 0   \n",
       "\n",
       "   poutcome_other  poutcome_success  poutcome_unknown  target  \n",
       "0               0                 0                 1       0  \n",
       "1               0                 0                 0       0  \n",
       "2               0                 0                 0       0  \n",
       "3               0                 0                 1       0  \n",
       "4               0                 0                 1       0  \n",
       "\n",
       "[5 rows x 39 columns]"
      ]
     },
     "execution_count": 13,
     "metadata": {},
     "output_type": "execute_result"
    }
   ],
   "source": [
    "train_data.head()"
   ]
  },
  {
   "cell_type": "markdown",
   "id": "derived-cassette",
   "metadata": {},
   "source": [
    "Масштабирование делать не будем, так как будем использовать catboost."
   ]
  },
  {
   "cell_type": "code",
   "execution_count": 14,
   "id": "foster-exercise",
   "metadata": {},
   "outputs": [
    {
     "data": {
      "image/png": "[encoded data removed]",
      "text/plain": [
       "<Figure size 720x576 with 1 Axes>"
      ]
     },
     "metadata": {
      "needs_background": "light"
     },
     "output_type": "display_data"
    }
   ],
   "source": [
    "corr_with_target = train_data.corr().iloc[:-1, -1].sort_values(ascending=False)\n",
    "\n",
    "plt.figure(figsize=(10, 8))\n",
    "\n",
    "sns.barplot(x=corr_with_target.values, y=corr_with_target.index)\n",
    "\n",
    "plt.title('Correlation with target variable')\n",
    "plt.show()"
   ]
  },
  {
   "cell_type": "markdown",
   "id": "recognized-upgrade",
   "metadata": {},
   "source": [
    "3. обучить любой классификатор (какой вам нравится) и посчитать метрики качества (roc auc, pr/rec/f1, logloss)"
   ]
  },
  {
   "cell_type": "code",
   "execution_count": 15,
   "id": "painted-british",
   "metadata": {},
   "outputs": [
    {
     "data": {
      "text/plain": [
       "7.677543186180422"
      ]
     },
     "execution_count": 15,
     "metadata": {},
     "output_type": "execute_result"
    }
   ],
   "source": [
    "disbalance = train_data[target_feature].value_counts()[0] / train_data[target_feature].value_counts()[1]\n",
    "disbalance"
   ]
  },
  {
   "cell_type": "code",
   "execution_count": 16,
   "id": "rational-bride",
   "metadata": {},
   "outputs": [],
   "source": [
    "# Разбиваем выборку на тренировочную и тестовую части и обучаем модель\n",
    "from sklearn.model_selection import train_test_split\n",
    "\n",
    "x_data = train_data.iloc[:,:-1]\n",
    "y_data = train_data.iloc[:,-1]\n",
    "\n",
    "x_train, x_test, y_train, y_test = train_test_split(x_data, y_data, test_size=0.2, random_state=7)"
   ]
  },
  {
   "cell_type": "code",
   "execution_count": 17,
   "id": "existing-toddler",
   "metadata": {},
   "outputs": [],
   "source": [
    "train_pool = catb.Pool(\n",
    "    x_train,\n",
    "    y_train,\n",
    ")\n",
    "\n",
    "test_pool = catb.Pool(\n",
    "    x_test,\n",
    "    y_test,\n",
    ") \n",
    "\n",
    "params_model = {\n",
    "    #'eval_metric': 'F1',\n",
    "    #'class_weights':[1, disbalance],\n",
    "    'silent': True,\n",
    "    #'one_hot_max_size': 15,\n",
    "    'early_stopping_rounds': 20,\n",
    "    'boosting_type': 'Ordered',\n",
    "    'allow_writing_files': False\n",
    "}\n",
    "\n",
    "cb = catb.CatBoostClassifier(**params_model, random_state=9)\n",
    "cb.fit(train_pool, eval_set=test_pool)\n",
    "#y_train_pred = cb.predict(x_train)\n",
    "y_test_pred = cb.predict(x_test)\n",
    "y_test_pred_proba = cb.predict_proba(x_test).T[1]"
   ]
  },
  {
   "cell_type": "code",
   "execution_count": 18,
   "id": "american-salem",
   "metadata": {},
   "outputs": [],
   "source": [
    "# Plot the class probabilities for the unlabeled samples\n",
    "def plot_precision_recall(precision, recall, th):\n",
    "    fig = plt.figure(figsize=(6, 4))\n",
    "\n",
    "    f1s = precision[:-1]*recall[:-1]\n",
    "    plt.plot(th, f1s, linewidth=2, alpha=0.5)\n",
    "    best_th = np.argmax(f1s)\n",
    "    plt.plot(th[best_th], f1s[best_th], c='r', marker='o')\n",
    "    plt.plot([th[best_th], th[best_th]], [0.0,f1s[best_th] ], 'r--')\n",
    "    plt.plot([0.0, th[best_th]], [f1s[best_th], f1s[best_th] ], 'r--')\n",
    "    plt.annotate('Pre: %0.3f, Rec: %0.3f' %(precision[best_th], recall[best_th]), \n",
    "                 xy=(th[best_th]+ 0.01, f1s[best_th]-0.05))\n",
    "    plt.ylabel('F1 score')\n",
    "    plt.xlabel('Probability threshold')\n",
    "    plt.grid()"
   ]
  },
  {
   "cell_type": "code",
   "execution_count": 19,
   "id": "finnish-tattoo",
   "metadata": {},
   "outputs": [
    {
     "name": "stdout",
     "output_type": "stream",
     "text": [
      "Classification results:\n",
      "f1: 57.014%\n",
      "roc: 87.116%\n",
      "recall: 60.577%\n",
      "precision: 53.846%\n",
      "log_loss: 0.2483815729958655\n"
     ]
    },
    {
     "data": {
      "image/png": "[encoded data removed]",
      "text/plain": [
       "<Figure size 432x288 with 1 Axes>"
      ]
     },
     "metadata": {
      "needs_background": "light"
     },
     "output_type": "display_data"
    }
   ],
   "source": [
    "from sklearn.metrics import f1_score, roc_auc_score, precision_score, classification_report, precision_recall_curve, confusion_matrix, log_loss\n",
    "\n",
    "results = pd.DataFrame()\n",
    "results['type'] = []\n",
    "results['threshold'] = []\n",
    "results['Precision'] = []\n",
    "results['Recall'] = []\n",
    "results['F-Score'] = []\n",
    "results['roc_auc'] = []\n",
    "results['log_loss'] = []\n",
    "\n",
    "def evaluate_results(y_test, y_predict, y_predict_proba, results, stype):\n",
    "    \n",
    "    precision, recall, thresholds = precision_recall_curve(y_test, y_predict_proba)\n",
    "    fscore = (2 * precision * recall) / (precision + recall)\n",
    "    #print(precision, recall)\n",
    "    ix = np.argmax(fscore)\n",
    "    \n",
    "    print('Classification results:')\n",
    "    f1 = fscore[ix]\n",
    "    print(\"f1: %.3f%%\" % (f1 * 100.0)) \n",
    "    roc = roc_auc_score(y_test, y_predict_proba)\n",
    "    print(\"roc: %.3f%%\" % (roc * 100.0)) \n",
    "    rec = recall[ix]\n",
    "    print(\"recall: %.3f%%\" % (rec * 100.0)) \n",
    "    prc = precision[ix]\n",
    "    print(\"precision: %.3f%%\" % (prc * 100.0)) \n",
    "    log = log_loss(y_test, y_predict_proba)\n",
    "    print(f\"log_loss: {log}\")\n",
    "    \n",
    "    results = results.append({'type': stype, \n",
    "                'threshold': thresholds[ix],\n",
    "                'Precision': prc,\n",
    "                'Recall': rec,\n",
    "                'F-Score': f1,\n",
    "                'roc_auc': roc,\n",
    "                'log_loss': log},\n",
    "                ignore_index=True)\n",
    "    \n",
    "    plot_precision_recall(precision, recall, thresholds)\n",
    "    \n",
    "    return results\n",
    "\n",
    "    \n",
    "results = evaluate_results(y_test, y_test_pred, y_test_pred_proba, results, 'simple catboost')"
   ]
  },
  {
   "cell_type": "markdown",
   "id": "protected-reason",
   "metadata": {},
   "source": [
    "4. далее разделить ваш набор данных на два множества: P (positives) и U (unlabeled). Причем брать нужно не все положительные (класс 1) примеры, а только лишь часть"
   ]
  },
  {
   "cell_type": "markdown",
   "id": "educational-retailer",
   "metadata": {},
   "source": [
    "PU learning: Представим, что нам неизвестны негативы и часть позитивов (25%)"
   ]
  },
  {
   "cell_type": "code",
   "execution_count": 20,
   "id": "hollow-scratch",
   "metadata": {},
   "outputs": [
    {
     "name": "stdout",
     "output_type": "stream",
     "text": [
      "Using 131/521 as positives and unlabeling the rest\n"
     ]
    }
   ],
   "source": [
    "mod_data = train_data.copy()\n",
    "#get the indices of the positives samples\n",
    "pos_ind = np.where(mod_data.iloc[:,-1].values == 1)[0]\n",
    "#shuffle them\n",
    "np.random.shuffle(pos_ind)\n",
    "# leave just 25% of the positives marked\n",
    "pos_sample_len = int(np.ceil(0.25 * len(pos_ind)))\n",
    "print(f'Using {pos_sample_len}/{len(pos_ind)} as positives and unlabeling the rest')\n",
    "pos_sample = pos_ind[:pos_sample_len]"
   ]
  },
  {
   "cell_type": "code",
   "execution_count": 21,
   "id": "informal-extra",
   "metadata": {},
   "outputs": [
    {
     "name": "stdout",
     "output_type": "stream",
     "text": [
      "target variable:\n",
      " -1    4390\n",
      " 1     131\n",
      "Name: class_test, dtype: int64\n"
     ]
    }
   ],
   "source": [
    "# Создаем столбец для новой целевой переменной, где у нас два класса - P (1) и U (-1)\n",
    "mod_data['class_test'] = -1\n",
    "mod_data.loc[pos_sample,'class_test'] = 1\n",
    "print('target variable:\\n', mod_data.iloc[:,-1].value_counts())"
   ]
  },
  {
   "cell_type": "markdown",
   "id": "overall-karaoke",
   "metadata": {},
   "source": [
    "We now have just 131 positive samples labeled as 1 in the 'class_test' col while the rest is unlabeled as -1."
   ]
  },
  {
   "cell_type": "markdown",
   "id": "approved-ready",
   "metadata": {},
   "source": [
    "Recall that col 'target' still holds the actual label"
   ]
  },
  {
   "cell_type": "code",
   "execution_count": 22,
   "id": "junior-player",
   "metadata": {},
   "outputs": [
    {
     "data": {
      "text/html": [
       "<div>\n",
       "<style scoped>\n",
       "    .dataframe tbody tr th:only-of-type {\n",
       "        vertical-align: middle;\n",
       "    }\n",
       "\n",
       "    .dataframe tbody tr th {\n",
       "        vertical-align: top;\n",
       "    }\n",
       "\n",
       "    .dataframe thead th {\n",
       "        text-align: right;\n",
       "    }\n",
       "</style>\n",
       "<table border=\"1\" class=\"dataframe\">\n",
       "  <thead>\n",
       "    <tr style=\"text-align: right;\">\n",
       "      <th></th>\n",
       "      <th>age</th>\n",
       "      <th>balance</th>\n",
       "      <th>duration</th>\n",
       "      <th>campaign</th>\n",
       "      <th>pdays</th>\n",
       "      <th>previous</th>\n",
       "      <th>job_admin.</th>\n",
       "      <th>job_blue-collar</th>\n",
       "      <th>job_entrepreneur</th>\n",
       "      <th>job_housemaid</th>\n",
       "      <th>...</th>\n",
       "      <th>loan_yes</th>\n",
       "      <th>contact_cellular</th>\n",
       "      <th>contact_telephone</th>\n",
       "      <th>contact_unknown</th>\n",
       "      <th>poutcome_failure</th>\n",
       "      <th>poutcome_other</th>\n",
       "      <th>poutcome_success</th>\n",
       "      <th>poutcome_unknown</th>\n",
       "      <th>target</th>\n",
       "      <th>class_test</th>\n",
       "    </tr>\n",
       "  </thead>\n",
       "  <tbody>\n",
       "    <tr>\n",
       "      <th>0</th>\n",
       "      <td>30</td>\n",
       "      <td>1787</td>\n",
       "      <td>79</td>\n",
       "      <td>1</td>\n",
       "      <td>-1</td>\n",
       "      <td>0</td>\n",
       "      <td>0</td>\n",
       "      <td>0</td>\n",
       "      <td>0</td>\n",
       "      <td>0</td>\n",
       "      <td>...</td>\n",
       "      <td>0</td>\n",
       "      <td>1</td>\n",
       "      <td>0</td>\n",
       "      <td>0</td>\n",
       "      <td>0</td>\n",
       "      <td>0</td>\n",
       "      <td>0</td>\n",
       "      <td>1</td>\n",
       "      <td>0</td>\n",
       "      <td>-1</td>\n",
       "    </tr>\n",
       "    <tr>\n",
       "      <th>1</th>\n",
       "      <td>33</td>\n",
       "      <td>4789</td>\n",
       "      <td>220</td>\n",
       "      <td>1</td>\n",
       "      <td>339</td>\n",
       "      <td>4</td>\n",
       "      <td>0</td>\n",
       "      <td>0</td>\n",
       "      <td>0</td>\n",
       "      <td>0</td>\n",
       "      <td>...</td>\n",
       "      <td>1</td>\n",
       "      <td>1</td>\n",
       "      <td>0</td>\n",
       "      <td>0</td>\n",
       "      <td>1</td>\n",
       "      <td>0</td>\n",
       "      <td>0</td>\n",
       "      <td>0</td>\n",
       "      <td>0</td>\n",
       "      <td>-1</td>\n",
       "    </tr>\n",
       "    <tr>\n",
       "      <th>2</th>\n",
       "      <td>35</td>\n",
       "      <td>1350</td>\n",
       "      <td>185</td>\n",
       "      <td>1</td>\n",
       "      <td>330</td>\n",
       "      <td>1</td>\n",
       "      <td>0</td>\n",
       "      <td>0</td>\n",
       "      <td>0</td>\n",
       "      <td>0</td>\n",
       "      <td>...</td>\n",
       "      <td>0</td>\n",
       "      <td>1</td>\n",
       "      <td>0</td>\n",
       "      <td>0</td>\n",
       "      <td>1</td>\n",
       "      <td>0</td>\n",
       "      <td>0</td>\n",
       "      <td>0</td>\n",
       "      <td>0</td>\n",
       "      <td>-1</td>\n",
       "    </tr>\n",
       "    <tr>\n",
       "      <th>3</th>\n",
       "      <td>30</td>\n",
       "      <td>1476</td>\n",
       "      <td>199</td>\n",
       "      <td>4</td>\n",
       "      <td>-1</td>\n",
       "      <td>0</td>\n",
       "      <td>0</td>\n",
       "      <td>0</td>\n",
       "      <td>0</td>\n",
       "      <td>0</td>\n",
       "      <td>...</td>\n",
       "      <td>1</td>\n",
       "      <td>0</td>\n",
       "      <td>0</td>\n",
       "      <td>1</td>\n",
       "      <td>0</td>\n",
       "      <td>0</td>\n",
       "      <td>0</td>\n",
       "      <td>1</td>\n",
       "      <td>0</td>\n",
       "      <td>-1</td>\n",
       "    </tr>\n",
       "    <tr>\n",
       "      <th>4</th>\n",
       "      <td>59</td>\n",
       "      <td>0</td>\n",
       "      <td>226</td>\n",
       "      <td>1</td>\n",
       "      <td>-1</td>\n",
       "      <td>0</td>\n",
       "      <td>0</td>\n",
       "      <td>1</td>\n",
       "      <td>0</td>\n",
       "      <td>0</td>\n",
       "      <td>...</td>\n",
       "      <td>0</td>\n",
       "      <td>0</td>\n",
       "      <td>0</td>\n",
       "      <td>1</td>\n",
       "      <td>0</td>\n",
       "      <td>0</td>\n",
       "      <td>0</td>\n",
       "      <td>1</td>\n",
       "      <td>0</td>\n",
       "      <td>-1</td>\n",
       "    </tr>\n",
       "    <tr>\n",
       "      <th>5</th>\n",
       "      <td>35</td>\n",
       "      <td>747</td>\n",
       "      <td>141</td>\n",
       "      <td>2</td>\n",
       "      <td>176</td>\n",
       "      <td>3</td>\n",
       "      <td>0</td>\n",
       "      <td>0</td>\n",
       "      <td>0</td>\n",
       "      <td>0</td>\n",
       "      <td>...</td>\n",
       "      <td>0</td>\n",
       "      <td>1</td>\n",
       "      <td>0</td>\n",
       "      <td>0</td>\n",
       "      <td>1</td>\n",
       "      <td>0</td>\n",
       "      <td>0</td>\n",
       "      <td>0</td>\n",
       "      <td>0</td>\n",
       "      <td>-1</td>\n",
       "    </tr>\n",
       "    <tr>\n",
       "      <th>6</th>\n",
       "      <td>36</td>\n",
       "      <td>307</td>\n",
       "      <td>341</td>\n",
       "      <td>1</td>\n",
       "      <td>330</td>\n",
       "      <td>2</td>\n",
       "      <td>0</td>\n",
       "      <td>0</td>\n",
       "      <td>0</td>\n",
       "      <td>0</td>\n",
       "      <td>...</td>\n",
       "      <td>0</td>\n",
       "      <td>1</td>\n",
       "      <td>0</td>\n",
       "      <td>0</td>\n",
       "      <td>0</td>\n",
       "      <td>1</td>\n",
       "      <td>0</td>\n",
       "      <td>0</td>\n",
       "      <td>0</td>\n",
       "      <td>-1</td>\n",
       "    </tr>\n",
       "    <tr>\n",
       "      <th>7</th>\n",
       "      <td>39</td>\n",
       "      <td>147</td>\n",
       "      <td>151</td>\n",
       "      <td>2</td>\n",
       "      <td>-1</td>\n",
       "      <td>0</td>\n",
       "      <td>0</td>\n",
       "      <td>0</td>\n",
       "      <td>0</td>\n",
       "      <td>0</td>\n",
       "      <td>...</td>\n",
       "      <td>0</td>\n",
       "      <td>1</td>\n",
       "      <td>0</td>\n",
       "      <td>0</td>\n",
       "      <td>0</td>\n",
       "      <td>0</td>\n",
       "      <td>0</td>\n",
       "      <td>1</td>\n",
       "      <td>0</td>\n",
       "      <td>-1</td>\n",
       "    </tr>\n",
       "    <tr>\n",
       "      <th>8</th>\n",
       "      <td>41</td>\n",
       "      <td>221</td>\n",
       "      <td>57</td>\n",
       "      <td>2</td>\n",
       "      <td>-1</td>\n",
       "      <td>0</td>\n",
       "      <td>0</td>\n",
       "      <td>0</td>\n",
       "      <td>1</td>\n",
       "      <td>0</td>\n",
       "      <td>...</td>\n",
       "      <td>0</td>\n",
       "      <td>0</td>\n",
       "      <td>0</td>\n",
       "      <td>1</td>\n",
       "      <td>0</td>\n",
       "      <td>0</td>\n",
       "      <td>0</td>\n",
       "      <td>1</td>\n",
       "      <td>0</td>\n",
       "      <td>-1</td>\n",
       "    </tr>\n",
       "    <tr>\n",
       "      <th>9</th>\n",
       "      <td>43</td>\n",
       "      <td>-88</td>\n",
       "      <td>313</td>\n",
       "      <td>1</td>\n",
       "      <td>147</td>\n",
       "      <td>2</td>\n",
       "      <td>0</td>\n",
       "      <td>0</td>\n",
       "      <td>0</td>\n",
       "      <td>0</td>\n",
       "      <td>...</td>\n",
       "      <td>1</td>\n",
       "      <td>1</td>\n",
       "      <td>0</td>\n",
       "      <td>0</td>\n",
       "      <td>1</td>\n",
       "      <td>0</td>\n",
       "      <td>0</td>\n",
       "      <td>0</td>\n",
       "      <td>0</td>\n",
       "      <td>-1</td>\n",
       "    </tr>\n",
       "  </tbody>\n",
       "</table>\n",
       "<p>10 rows × 40 columns</p>\n",
       "</div>"
      ],
      "text/plain": [
       "   age  balance  duration  campaign  pdays  previous  job_admin.  \\\n",
       "0   30     1787        79         1     -1         0           0   \n",
       "1   33     4789       220         1    339         4           0   \n",
       "2   35     1350       185         1    330         1           0   \n",
       "3   30     1476       199         4     -1         0           0   \n",
       "4   59        0       226         1     -1         0           0   \n",
       "5   35      747       141         2    176         3           0   \n",
       "6   36      307       341         1    330         2           0   \n",
       "7   39      147       151         2     -1         0           0   \n",
       "8   41      221        57         2     -1         0           0   \n",
       "9   43      -88       313         1    147         2           0   \n",
       "\n",
       "   job_blue-collar  job_entrepreneur  job_housemaid  ...  loan_yes  \\\n",
       "0                0                 0              0  ...         0   \n",
       "1                0                 0              0  ...         1   \n",
       "2                0                 0              0  ...         0   \n",
       "3                0                 0              0  ...         1   \n",
       "4                1                 0              0  ...         0   \n",
       "5                0                 0              0  ...         0   \n",
       "6                0                 0              0  ...         0   \n",
       "7                0                 0              0  ...         0   \n",
       "8                0                 1              0  ...         0   \n",
       "9                0                 0              0  ...         1   \n",
       "\n",
       "   contact_cellular  contact_telephone  contact_unknown  poutcome_failure  \\\n",
       "0                 1                  0                0                 0   \n",
       "1                 1                  0                0                 1   \n",
       "2                 1                  0                0                 1   \n",
       "3                 0                  0                1                 0   \n",
       "4                 0                  0                1                 0   \n",
       "5                 1                  0                0                 1   \n",
       "6                 1                  0                0                 0   \n",
       "7                 1                  0                0                 0   \n",
       "8                 0                  0                1                 0   \n",
       "9                 1                  0                0                 1   \n",
       "\n",
       "   poutcome_other  poutcome_success  poutcome_unknown  target  class_test  \n",
       "0               0                 0                 1       0          -1  \n",
       "1               0                 0                 0       0          -1  \n",
       "2               0                 0                 0       0          -1  \n",
       "3               0                 0                 1       0          -1  \n",
       "4               0                 0                 1       0          -1  \n",
       "5               0                 0                 0       0          -1  \n",
       "6               1                 0                 0       0          -1  \n",
       "7               0                 0                 1       0          -1  \n",
       "8               0                 0                 1       0          -1  \n",
       "9               0                 0                 0       0          -1  \n",
       "\n",
       "[10 rows x 40 columns]"
      ]
     },
     "execution_count": 22,
     "metadata": {},
     "output_type": "execute_result"
    }
   ],
   "source": [
    "mod_data.head(10)"
   ]
  },
  {
   "cell_type": "code",
   "execution_count": 23,
   "id": "hollow-divorce",
   "metadata": {},
   "outputs": [],
   "source": [
    "x_data = mod_data.iloc[:,:-2].values # just the X \n",
    "y_labeled = mod_data.iloc[:,-1].values # new class (just the P & U)\n",
    "y_positive = mod_data.iloc[:,-2].values # original class"
   ]
  },
  {
   "cell_type": "markdown",
   "id": "sublime-acrobat",
   "metadata": {},
   "source": [
    "5. применить random negative sampling для построения классификатора в новых условиях"
   ]
  },
  {
   "cell_type": "markdown",
   "id": "sustained-scotland",
   "metadata": {},
   "source": [
    "### random negative sampling"
   ]
  },
  {
   "cell_type": "code",
   "execution_count": 24,
   "id": "neural-criterion",
   "metadata": {},
   "outputs": [
    {
     "name": "stdout",
     "output_type": "stream",
     "text": [
      "(131, 40) (131, 40)\n"
     ]
    }
   ],
   "source": [
    "mod_data = mod_data.sample(frac=1)\n",
    "neg_sample = mod_data[mod_data['class_test']==-1][:len(mod_data[mod_data['class_test']==1])]\n",
    "sample_test = mod_data[mod_data['class_test']==-1][len(mod_data[mod_data['class_test']==1]):]\n",
    "pos_sample = mod_data[mod_data['class_test']==1]\n",
    "print(neg_sample.shape, pos_sample.shape)\n",
    "sample_train = pd.concat([neg_sample, pos_sample]).sample(frac=1)"
   ]
  },
  {
   "cell_type": "code",
   "execution_count": 25,
   "id": "registered-links",
   "metadata": {},
   "outputs": [],
   "source": [
    "train_pool_2 = catb.Pool(\n",
    "    sample_train.iloc[:,:-2].values,\n",
    "    sample_train.iloc[:,-2].values,\n",
    ")\n",
    "\n",
    "test_pool_2 = catb.Pool(\n",
    "    sample_train.iloc[:,:-2].values,\n",
    "    sample_train.iloc[:,-2].values,\n",
    ") \n",
    "\n",
    "params_model = {\n",
    "    #'eval_metric': 'F1',\n",
    "    #'class_weights':[1, disbalance],\n",
    "    'silent': True,\n",
    "    #'one_hot_max_size': 15,\n",
    "    'early_stopping_rounds': 20,\n",
    "    'boosting_type': 'Ordered',\n",
    "    'allow_writing_files': False\n",
    "}\n",
    "\n",
    "cb_2 = catb.CatBoostClassifier(**params_model, random_state=9)\n",
    "cb_2.fit(train_pool_2, eval_set=test_pool_2)\n",
    "#y_train_pred_2 = cb_2.predict(sample_test.iloc[:,:-2].values)\n",
    "y_test_pred_2 = cb_2.predict(sample_test.iloc[:,:-2].values)\n",
    "y_test_pred_proba_2 = cb_2.predict_proba(sample_test.iloc[:,:-2].values).T[1]"
   ]
  },
  {
   "cell_type": "code",
   "execution_count": 26,
   "id": "sporting-stewart",
   "metadata": {},
   "outputs": [
    {
     "name": "stdout",
     "output_type": "stream",
     "text": [
      "Classification results:\n",
      "f1: 47.884%\n",
      "roc: 87.075%\n",
      "recall: 51.969%\n",
      "precision: 44.395%\n",
      "log_loss: 0.6048488987941367\n"
     ]
    },
    {
     "data": {
      "image/png": "[encoded data removed]",
      "text/plain": [
       "<Figure size 432x288 with 1 Axes>"
      ]
     },
     "metadata": {
      "needs_background": "light"
     },
     "output_type": "display_data"
    }
   ],
   "source": [
    "results = evaluate_results(sample_test.iloc[:,-2].values, y_test_pred_2, y_test_pred_proba_2, results, 'random negative sampling 25%')"
   ]
  },
  {
   "cell_type": "markdown",
   "id": "effective-visitor",
   "metadata": {},
   "source": [
    "6. сравнить качество с решением из пункта 4 (построить отчет - таблицу метрик)"
   ]
  },
  {
   "cell_type": "code",
   "execution_count": 27,
   "id": "offshore-joining",
   "metadata": {},
   "outputs": [
    {
     "data": {
      "text/html": [
       "<div>\n",
       "<style scoped>\n",
       "    .dataframe tbody tr th:only-of-type {\n",
       "        vertical-align: middle;\n",
       "    }\n",
       "\n",
       "    .dataframe tbody tr th {\n",
       "        vertical-align: top;\n",
       "    }\n",
       "\n",
       "    .dataframe thead th {\n",
       "        text-align: right;\n",
       "    }\n",
       "</style>\n",
       "<table border=\"1\" class=\"dataframe\">\n",
       "  <thead>\n",
       "    <tr style=\"text-align: right;\">\n",
       "      <th></th>\n",
       "      <th>type</th>\n",
       "      <th>threshold</th>\n",
       "      <th>Precision</th>\n",
       "      <th>Recall</th>\n",
       "      <th>F-Score</th>\n",
       "      <th>roc_auc</th>\n",
       "      <th>log_loss</th>\n",
       "    </tr>\n",
       "  </thead>\n",
       "  <tbody>\n",
       "    <tr>\n",
       "      <th>0</th>\n",
       "      <td>simple catboost</td>\n",
       "      <td>0.266652</td>\n",
       "      <td>0.538462</td>\n",
       "      <td>0.605769</td>\n",
       "      <td>0.570136</td>\n",
       "      <td>0.871159</td>\n",
       "      <td>0.248382</td>\n",
       "    </tr>\n",
       "    <tr>\n",
       "      <th>1</th>\n",
       "      <td>random negative sampling 25%</td>\n",
       "      <td>0.916793</td>\n",
       "      <td>0.443946</td>\n",
       "      <td>0.519685</td>\n",
       "      <td>0.478839</td>\n",
       "      <td>0.870746</td>\n",
       "      <td>0.604849</td>\n",
       "    </tr>\n",
       "  </tbody>\n",
       "</table>\n",
       "</div>"
      ],
      "text/plain": [
       "                           type  threshold  Precision    Recall   F-Score  \\\n",
       "0               simple catboost   0.266652   0.538462  0.605769  0.570136   \n",
       "1  random negative sampling 25%   0.916793   0.443946  0.519685  0.478839   \n",
       "\n",
       "    roc_auc  log_loss  \n",
       "0  0.871159  0.248382  \n",
       "1  0.870746  0.604849  "
      ]
     },
     "execution_count": 27,
     "metadata": {},
     "output_type": "execute_result"
    }
   ],
   "source": [
    "results"
   ]
  },
  {
   "cell_type": "markdown",
   "id": "artistic-university",
   "metadata": {},
   "source": [
    "7. поэкспериментировать с долей P на шаге 5 (как будет меняться качество модели при уменьшении/увеличении размера P)"
   ]
  },
  {
   "cell_type": "markdown",
   "id": "gorgeous-proposal",
   "metadata": {},
   "source": [
    "#### PU learning: Представим, что нам неизвестны негативы и часть позитивов (15%)"
   ]
  },
  {
   "cell_type": "code",
   "execution_count": 28,
   "id": "laughing-medicine",
   "metadata": {},
   "outputs": [
    {
     "name": "stdout",
     "output_type": "stream",
     "text": [
      "Using 79/521 as positives and unlabeling the rest\n"
     ]
    }
   ],
   "source": [
    "mod_data = train_data.copy()\n",
    "#get the indices of the positives samples\n",
    "pos_ind = np.where(mod_data.iloc[:,-1].values == 1)[0]\n",
    "#shuffle them\n",
    "np.random.shuffle(pos_ind)\n",
    "# leave just 25% of the positives marked\n",
    "pos_sample_len = int(np.ceil(0.15 * len(pos_ind)))\n",
    "print(f'Using {pos_sample_len}/{len(pos_ind)} as positives and unlabeling the rest')\n",
    "pos_sample = pos_ind[:pos_sample_len]"
   ]
  },
  {
   "cell_type": "code",
   "execution_count": 29,
   "id": "defined-firewall",
   "metadata": {},
   "outputs": [
    {
     "name": "stdout",
     "output_type": "stream",
     "text": [
      "target variable:\n",
      " -1    4442\n",
      " 1      79\n",
      "Name: class_test, dtype: int64\n"
     ]
    }
   ],
   "source": [
    "# Создаем столбец для новой целевой переменной, где у нас два класса - P (1) и U (-1)\n",
    "mod_data['class_test'] = -1\n",
    "mod_data.loc[pos_sample,'class_test'] = 1\n",
    "print('target variable:\\n', mod_data.iloc[:,-1].value_counts())"
   ]
  },
  {
   "cell_type": "code",
   "execution_count": 30,
   "id": "collectible-mount",
   "metadata": {},
   "outputs": [],
   "source": [
    "x_data = mod_data.iloc[:,:-2].values # just the X \n",
    "y_labeled = mod_data.iloc[:,-1].values # new class (just the P & U)\n",
    "y_positive = mod_data.iloc[:,-2].values # original class"
   ]
  },
  {
   "cell_type": "code",
   "execution_count": 31,
   "id": "talented-familiar",
   "metadata": {},
   "outputs": [
    {
     "name": "stdout",
     "output_type": "stream",
     "text": [
      "(79, 40) (79, 40)\n"
     ]
    }
   ],
   "source": [
    "mod_data = mod_data.sample(frac=1)\n",
    "neg_sample = mod_data[mod_data['class_test']==-1][:len(mod_data[mod_data['class_test']==1])]\n",
    "sample_test = mod_data[mod_data['class_test']==-1][len(mod_data[mod_data['class_test']==1]):]\n",
    "pos_sample = mod_data[mod_data['class_test']==1]\n",
    "print(neg_sample.shape, pos_sample.shape)\n",
    "sample_train = pd.concat([neg_sample, pos_sample]).sample(frac=1)"
   ]
  },
  {
   "cell_type": "code",
   "execution_count": 32,
   "id": "noticed-ribbon",
   "metadata": {},
   "outputs": [],
   "source": [
    "train_pool_3 = catb.Pool(\n",
    "    sample_train.iloc[:,:-2].values,\n",
    "    sample_train.iloc[:,-2].values,\n",
    ")\n",
    "\n",
    "test_pool_3 = catb.Pool(\n",
    "    sample_train.iloc[:,:-2].values,\n",
    "    sample_train.iloc[:,-2].values,\n",
    ") \n",
    "\n",
    "params_model = {\n",
    "    #'eval_metric': 'F1',\n",
    "    #'class_weights':[1, disbalance],\n",
    "    'silent': True,\n",
    "    #'one_hot_max_size': 15,\n",
    "    'early_stopping_rounds': 20,\n",
    "    'boosting_type': 'Ordered',\n",
    "    'allow_writing_files': False\n",
    "}\n",
    "\n",
    "cb_3 = catb.CatBoostClassifier(**params_model, random_state=9)\n",
    "cb_3.fit(train_pool_3, eval_set=test_pool_3)\n",
    "#y_train_pred_3 = cb_3.predict(sample_test.iloc[:,:-2].values)\n",
    "y_test_pred_3 = cb_3.predict(sample_test.iloc[:,:-2].values)\n",
    "y_test_pred_proba_3 = cb_3.predict_proba(sample_test.iloc[:,:-2].values).T[1]"
   ]
  },
  {
   "cell_type": "code",
   "execution_count": 33,
   "id": "interesting-password",
   "metadata": {},
   "outputs": [
    {
     "name": "stdout",
     "output_type": "stream",
     "text": [
      "Classification results:\n",
      "f1: 45.088%\n",
      "roc: 83.842%\n",
      "recall: 50.115%\n",
      "precision: 40.977%\n",
      "log_loss: 0.684325041479899\n"
     ]
    },
    {
     "data": {
      "image/png": "[encoded data removed]",
      "text/plain": [
       "<Figure size 432x288 with 1 Axes>"
      ]
     },
     "metadata": {
      "needs_background": "light"
     },
     "output_type": "display_data"
    }
   ],
   "source": [
    "results = evaluate_results(sample_test.iloc[:,-2].values, y_test_pred_3, y_test_pred_proba_3, results, 'random negative sampling 15%')"
   ]
  },
  {
   "cell_type": "markdown",
   "id": "british-texas",
   "metadata": {},
   "source": [
    "#### PU learning: Представим, что нам неизвестны негативы и часть позитивов (50%)"
   ]
  },
  {
   "cell_type": "code",
   "execution_count": 34,
   "id": "secret-elizabeth",
   "metadata": {},
   "outputs": [
    {
     "name": "stdout",
     "output_type": "stream",
     "text": [
      "Using 261/521 as positives and unlabeling the rest\n"
     ]
    }
   ],
   "source": [
    "mod_data = train_data.copy()\n",
    "#get the indices of the positives samples\n",
    "pos_ind = np.where(mod_data.iloc[:,-1].values == 1)[0]\n",
    "#shuffle them\n",
    "np.random.shuffle(pos_ind)\n",
    "# leave just 25% of the positives marked\n",
    "pos_sample_len = int(np.ceil(0.5 * len(pos_ind)))\n",
    "print(f'Using {pos_sample_len}/{len(pos_ind)} as positives and unlabeling the rest')\n",
    "pos_sample = pos_ind[:pos_sample_len]"
   ]
  },
  {
   "cell_type": "code",
   "execution_count": 35,
   "id": "broad-crystal",
   "metadata": {},
   "outputs": [
    {
     "name": "stdout",
     "output_type": "stream",
     "text": [
      "target variable:\n",
      " -1    4260\n",
      " 1     261\n",
      "Name: class_test, dtype: int64\n"
     ]
    }
   ],
   "source": [
    "# Создаем столбец для новой целевой переменной, где у нас два класса - P (1) и U (-1)\n",
    "mod_data['class_test'] = -1\n",
    "mod_data.loc[pos_sample,'class_test'] = 1\n",
    "print('target variable:\\n', mod_data.iloc[:,-1].value_counts())"
   ]
  },
  {
   "cell_type": "code",
   "execution_count": 36,
   "id": "hollywood-isaac",
   "metadata": {},
   "outputs": [],
   "source": [
    "x_data = mod_data.iloc[:,:-2].values # just the X \n",
    "y_labeled = mod_data.iloc[:,-1].values # new class (just the P & U)\n",
    "y_positive = mod_data.iloc[:,-2].values # original class"
   ]
  },
  {
   "cell_type": "code",
   "execution_count": 37,
   "id": "specific-converter",
   "metadata": {},
   "outputs": [
    {
     "name": "stdout",
     "output_type": "stream",
     "text": [
      "(261, 40) (261, 40)\n"
     ]
    }
   ],
   "source": [
    "mod_data = mod_data.sample(frac=1)\n",
    "neg_sample = mod_data[mod_data['class_test']==-1][:len(mod_data[mod_data['class_test']==1])]\n",
    "sample_test = mod_data[mod_data['class_test']==-1][len(mod_data[mod_data['class_test']==1]):]\n",
    "pos_sample = mod_data[mod_data['class_test']==1]\n",
    "print(neg_sample.shape, pos_sample.shape)\n",
    "sample_train = pd.concat([neg_sample, pos_sample]).sample(frac=1)"
   ]
  },
  {
   "cell_type": "code",
   "execution_count": 38,
   "id": "together-spanking",
   "metadata": {},
   "outputs": [],
   "source": [
    "train_pool_4 = catb.Pool(\n",
    "    sample_train.iloc[:,:-2].values,\n",
    "    sample_train.iloc[:,-2].values,\n",
    ")\n",
    "\n",
    "test_pool_4 = catb.Pool(\n",
    "    sample_train.iloc[:,:-2].values,\n",
    "    sample_train.iloc[:,-2].values,\n",
    ") \n",
    "\n",
    "params_model = {\n",
    "    #'eval_metric': 'F1',\n",
    "    #'class_weights':[1, disbalance],\n",
    "    'silent': True,\n",
    "    #'one_hot_max_size': 15,\n",
    "    'early_stopping_rounds': 20,\n",
    "    'boosting_type': 'Ordered',\n",
    "    'allow_writing_files': False\n",
    "}\n",
    "\n",
    "cb_4 = catb.CatBoostClassifier(**params_model, random_state=9)\n",
    "cb_4.fit(train_pool_4, eval_set=test_pool_4)\n",
    "#y_train_pred_4 = cb_4.predict(sample_test.iloc[:,:-2].values)\n",
    "y_test_pred_4 = cb_4.predict(sample_test.iloc[:,:-2].values)\n",
    "y_test_pred_proba_4 = cb_4.predict_proba(sample_test.iloc[:,:-2].values).T[1]"
   ]
  },
  {
   "cell_type": "code",
   "execution_count": 39,
   "id": "concrete-omega",
   "metadata": {},
   "outputs": [
    {
     "name": "stdout",
     "output_type": "stream",
     "text": [
      "Classification results:\n",
      "f1: 41.007%\n",
      "roc: 87.531%\n",
      "recall: 46.531%\n",
      "precision: 36.656%\n",
      "log_loss: 0.5028850778913201\n"
     ]
    },
    {
     "data": {
      "image/png": "[encoded data removed]",
      "text/plain": [
       "<Figure size 432x288 with 1 Axes>"
      ]
     },
     "metadata": {
      "needs_background": "light"
     },
     "output_type": "display_data"
    }
   ],
   "source": [
    "results = evaluate_results(sample_test.iloc[:,-2].values, y_test_pred_4, y_test_pred_proba_4, results, 'random negative sampling 50%')"
   ]
  },
  {
   "cell_type": "code",
   "execution_count": 40,
   "id": "owned-windsor",
   "metadata": {},
   "outputs": [
    {
     "data": {
      "text/html": [
       "<div>\n",
       "<style scoped>\n",
       "    .dataframe tbody tr th:only-of-type {\n",
       "        vertical-align: middle;\n",
       "    }\n",
       "\n",
       "    .dataframe tbody tr th {\n",
       "        vertical-align: top;\n",
       "    }\n",
       "\n",
       "    .dataframe thead th {\n",
       "        text-align: right;\n",
       "    }\n",
       "</style>\n",
       "<table border=\"1\" class=\"dataframe\">\n",
       "  <thead>\n",
       "    <tr style=\"text-align: right;\">\n",
       "      <th></th>\n",
       "      <th>type</th>\n",
       "      <th>threshold</th>\n",
       "      <th>Precision</th>\n",
       "      <th>Recall</th>\n",
       "      <th>F-Score</th>\n",
       "      <th>roc_auc</th>\n",
       "      <th>log_loss</th>\n",
       "    </tr>\n",
       "  </thead>\n",
       "  <tbody>\n",
       "    <tr>\n",
       "      <th>0</th>\n",
       "      <td>simple catboost</td>\n",
       "      <td>0.266652</td>\n",
       "      <td>0.538462</td>\n",
       "      <td>0.605769</td>\n",
       "      <td>0.570136</td>\n",
       "      <td>0.871159</td>\n",
       "      <td>0.248382</td>\n",
       "    </tr>\n",
       "    <tr>\n",
       "      <th>1</th>\n",
       "      <td>random negative sampling 25%</td>\n",
       "      <td>0.916793</td>\n",
       "      <td>0.443946</td>\n",
       "      <td>0.519685</td>\n",
       "      <td>0.478839</td>\n",
       "      <td>0.870746</td>\n",
       "      <td>0.604849</td>\n",
       "    </tr>\n",
       "    <tr>\n",
       "      <th>2</th>\n",
       "      <td>random negative sampling 15%</td>\n",
       "      <td>0.944476</td>\n",
       "      <td>0.409774</td>\n",
       "      <td>0.501149</td>\n",
       "      <td>0.450879</td>\n",
       "      <td>0.838418</td>\n",
       "      <td>0.684325</td>\n",
       "    </tr>\n",
       "    <tr>\n",
       "      <th>3</th>\n",
       "      <td>random negative sampling 50%</td>\n",
       "      <td>0.882976</td>\n",
       "      <td>0.366559</td>\n",
       "      <td>0.465306</td>\n",
       "      <td>0.410072</td>\n",
       "      <td>0.875311</td>\n",
       "      <td>0.502885</td>\n",
       "    </tr>\n",
       "  </tbody>\n",
       "</table>\n",
       "</div>"
      ],
      "text/plain": [
       "                           type  threshold  Precision    Recall   F-Score  \\\n",
       "0               simple catboost   0.266652   0.538462  0.605769  0.570136   \n",
       "1  random negative sampling 25%   0.916793   0.443946  0.519685  0.478839   \n",
       "2  random negative sampling 15%   0.944476   0.409774  0.501149  0.450879   \n",
       "3  random negative sampling 50%   0.882976   0.366559  0.465306  0.410072   \n",
       "\n",
       "    roc_auc  log_loss  \n",
       "0  0.871159  0.248382  \n",
       "1  0.870746  0.604849  \n",
       "2  0.838418  0.684325  \n",
       "3  0.875311  0.502885  "
      ]
     },
     "execution_count": 40,
     "metadata": {},
     "output_type": "execute_result"
    }
   ],
   "source": [
    "results"
   ]
  },
  {
   "cell_type": "markdown",
   "id": "quality-ballot",
   "metadata": {},
   "source": [
    "Если смотреть на f-score, то получилось, что 25% - как золотая середина, все, что меньше или больше - хуже по качеству. Если смотреть на roc_auc, то получили, что, чем больше позитивов мы оставляем размеченными, тем лучше качество."
   ]
  }
 ],
 "metadata": {
  "kernelspec": {
   "display_name": "Python 3",
   "language": "python",
   "name": "python3"
  },
  "language_info": {
   "codemirror_mode": {
    "name": "ipython",
    "version": 3
   },
   "file_extension": ".py",
   "mimetype": "text/x-python",
   "name": "python",
   "nbconvert_exporter": "python",
   "pygments_lexer": "ipython3",
   "version": "3.7.3"
  }
 },
 "nbformat": 4,
 "nbformat_minor": 5
}
